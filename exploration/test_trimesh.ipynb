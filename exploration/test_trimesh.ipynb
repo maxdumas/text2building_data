{
 "cells": [
  {
   "cell_type": "code",
   "execution_count": 8,
   "metadata": {},
   "outputs": [],
   "source": [
    "import trimesh\n",
    "from cjio import cityjson\n",
    "from PIL import Image"
   ]
  },
  {
   "cell_type": "code",
   "execution_count": 3,
   "metadata": {},
   "outputs": [],
   "source": [
    "cm = cityjson.load(\"citydata/berlin/citygml/Charlottenburg-Wilmersdorf/citygml.json\")"
   ]
  },
  {
   "cell_type": "code",
   "execution_count": 4,
   "metadata": {},
   "outputs": [],
   "source": [
    "buildings = cm.get_cityobjects(type=\"building\")"
   ]
  },
  {
   "cell_type": "code",
   "execution_count": 5,
   "metadata": {},
   "outputs": [],
   "source": [
    "import random"
   ]
  },
  {
   "cell_type": "code",
   "execution_count": 6,
   "metadata": {},
   "outputs": [],
   "source": [
    "bldg = random.choice(list(buildings.values()))"
   ]
  },
  {
   "cell_type": "code",
   "execution_count": 7,
   "metadata": {},
   "outputs": [],
   "source": [
    "obj = bldg.geometry[0]"
   ]
  },
  {
   "cell_type": "code",
   "execution_count": 10,
   "metadata": {},
   "outputs": [],
   "source": [
    "faces, vertmap, n_vertices = obj.build_index()"
   ]
  },
  {
   "cell_type": "code",
   "execution_count": 11,
   "metadata": {},
   "outputs": [
    {
     "data": {
      "text/plain": [
       "[[[0, 1, 2, 3, 4]],\n",
       " [[5, 6, 7, 8]],\n",
       " [[6, 9, 10, 7]],\n",
       " [[7, 10, 8]],\n",
       " [[4, 8, 10, 0]],\n",
       " [[0, 10, 9, 1]],\n",
       " [[1, 9, 6, 5, 3, 2]],\n",
       " [[3, 5, 8, 4]]]"
      ]
     },
     "execution_count": 11,
     "metadata": {},
     "output_type": "execute_result"
    }
   ],
   "source": [
    "faces"
   ]
  },
  {
   "cell_type": "code",
   "execution_count": 9,
   "metadata": {},
   "outputs": [
    {
     "data": {
      "text/plain": [
       "{0: {'rgbTexture': {'texture': [], 'vertices-texture': []}},\n",
       " 1: {'rgbTexture': {'texture': [{'type': 'JPG',\n",
       "     'image': 'appearance/602/tex_4228601.jpg',\n",
       "     'wrapMode': 'wrap',\n",
       "     'textureType': 'unknown',\n",
       "     'borderColor': [1.0, 1.0, 1.0, 1.0]}],\n",
       "   'vertices-texture': [[[0.994593, 0.899802],\n",
       "     [0.268912, 0.999188],\n",
       "     [0.005544, 0.364436],\n",
       "     [0.621845, 0.001426]]]}},\n",
       " 2: {'rgbTexture': {'texture': [{'type': 'JPG',\n",
       "     'image': 'appearance/603/tex_4228602.jpg',\n",
       "     'wrapMode': 'wrap',\n",
       "     'textureType': 'unknown',\n",
       "     'borderColor': [1.0, 1.0, 1.0, 1.0]}],\n",
       "   'vertices-texture': [[[0.993257, 0.999114],\n",
       "     [0.3408, 0.983054],\n",
       "     [0.00616, 0.00199],\n",
       "     [0.756802, 0.305897]]]}},\n",
       " 3: {'rgbTexture': {'texture': [{'type': 'JPG',\n",
       "     'image': 'appearance/601/tex_4228600.jpg',\n",
       "     'wrapMode': 'wrap',\n",
       "     'textureType': 'unknown',\n",
       "     'borderColor': [1.0, 1.0, 1.0, 1.0]}],\n",
       "   'vertices-texture': [[[0.57601, 0.999941],\n",
       "     [0.004688, 0.236406],\n",
       "     [0.99715, 0.003914]]]}},\n",
       " 4: {'rgbTexture': {'texture': [{'type': 'JPG',\n",
       "     'image': 'appearance/605/tex_4228604.jpg',\n",
       "     'wrapMode': 'wrap',\n",
       "     'textureType': 'unknown',\n",
       "     'borderColor': [1.0, 1.0, 1.0, 1.0]}],\n",
       "   'vertices-texture': [[[0.000458, 0.107724],\n",
       "     [0.840378, 0.000991],\n",
       "     [0.999369, 0.902968],\n",
       "     [0.15926, 0.9978]]]}},\n",
       " 5: {'rgbTexture': {'texture': [{'type': 'JPG',\n",
       "     'image': 'appearance/607/tex_4228606.jpg',\n",
       "     'wrapMode': 'wrap',\n",
       "     'textureType': 'unknown',\n",
       "     'borderColor': [1.0, 1.0, 1.0, 1.0]}],\n",
       "   'vertices-texture': [[[0.91338, 0.00383],\n",
       "     [0.998027, 0.740917],\n",
       "     [0.073135, 0.999555],\n",
       "     [0.001308, 0.261712]]]}},\n",
       " 6: {'rgbTexture': {'texture': [{'type': 'JPG',\n",
       "     'image': 'appearance/604/tex_4228603.jpg',\n",
       "     'wrapMode': 'wrap',\n",
       "     'textureType': 'unknown',\n",
       "     'borderColor': [1.0, 1.0, 1.0, 1.0]}],\n",
       "   'vertices-texture': [[[0.004049, 0.999934],\n",
       "     [0.093487, 0.32826],\n",
       "     [0.582316, 0.004762],\n",
       "     [0.998044, 0.172049],\n",
       "     [0.88653, 0.847676],\n",
       "     [0.445241, 0.923814]]]}},\n",
       " 7: {'rgbTexture': {'texture': [{'type': 'JPG',\n",
       "     'image': 'appearance/606/tex_4228605.jpg',\n",
       "     'wrapMode': 'wrap',\n",
       "     'textureType': 'unknown',\n",
       "     'borderColor': [1.0, 1.0, 1.0, 1.0]}],\n",
       "   'vertices-texture': [[[0.912044, 0.003725],\n",
       "     [0.999072, 0.805768],\n",
       "     [0.075426, 0.99821],\n",
       "     [0.000691, 0.195777]]]}}}"
      ]
     },
     "execution_count": 9,
     "metadata": {},
     "output_type": "execute_result"
    }
   ],
   "source": [
    "obj.texture"
   ]
  }
 ],
 "metadata": {
  "kernelspec": {
   "display_name": "text2building_data",
   "language": "python",
   "name": "python3"
  },
  "language_info": {
   "codemirror_mode": {
    "name": "ipython",
    "version": 3
   },
   "file_extension": ".py",
   "mimetype": "text/x-python",
   "name": "python",
   "nbconvert_exporter": "python",
   "pygments_lexer": "ipython3",
   "version": "3.10.9"
  },
  "orig_nbformat": 4
 },
 "nbformat": 4,
 "nbformat_minor": 2
}
